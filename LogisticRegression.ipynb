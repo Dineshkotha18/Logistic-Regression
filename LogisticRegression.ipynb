{
 "cells": [
  {
   "cell_type": "markdown",
   "id": "2246a85a",
   "metadata": {},
   "source": [
    "Importing libraries"
   ]
  },
  {
   "cell_type": "code",
   "execution_count": 1,
   "id": "6b41e737",
   "metadata": {},
   "outputs": [],
   "source": [
    "import numpy as np\n",
    "import pandas as pd"
   ]
  },
  {
   "cell_type": "markdown",
   "id": "4fefb4dc",
   "metadata": {},
   "source": [
    "creating dataset"
   ]
  },
  {
   "cell_type": "code",
   "execution_count": 2,
   "id": "891e4afc",
   "metadata": {},
   "outputs": [
    {
     "name": "stdout",
     "output_type": "stream",
     "text": [
      "[51 75 74 40 30 17 75 19 76 62 58 97 46 29 15 67 48 34 11 64  3 97 89 69\n",
      " 39 84 77 60 67 76 15 33 33 23 65 63  7 56 46 97 59 73 40 66 70 27 37 95\n",
      " 61 45 97 27 48 98 34  3 51 96 80 61 73 19 43  9 26 84 25 56  3 13 11 28\n",
      " 48 47 52 35 91 28  7 93  2 61 72 72 64 38 33 90 19 12 74 91 55 49 58 90\n",
      " 36 81 85 67]\n",
      "[4438 3200 7607 7680 3415 6724 3138 5663 5794 1329 5932 1526 2364 4750\n",
      "  784 6991 3882 4280 4155 4743 4366 5544  700 3656  801 5016 7297 4721\n",
      " 2774 1139 5114 3513 5322 5677 1889 4605 4013 2576 1479 2023 6567 3621\n",
      " 6879 6892 1673 7300 7637 4150 6845 5760 1598 7331 7727 2612 2983 6980\n",
      " 1252 7988 7729 4216 4498 4584 1228 3073 2577 3462 5174 2792 5022 6675\n",
      " 2469 2962 2619 3724 4530  782 6174 5573 6371 2894 2391 3375 3063 1661\n",
      " 6753 5868  921 7699 1169  682 1587 7569 7143 7361 7536 3728 6282 3323\n",
      " 5370 4215]\n"
     ]
    }
   ],
   "source": [
    "age = np.random.randint(1,100,100)\n",
    "sal = np.random.randint(500,8000,100)\n",
    "print(age)\n",
    "print(sal)"
   ]
  },
  {
   "cell_type": "code",
   "execution_count": 3,
   "id": "1abbacfc",
   "metadata": {},
   "outputs": [
    {
     "data": {
      "text/html": [
       "<div>\n",
       "<style scoped>\n",
       "    .dataframe tbody tr th:only-of-type {\n",
       "        vertical-align: middle;\n",
       "    }\n",
       "\n",
       "    .dataframe tbody tr th {\n",
       "        vertical-align: top;\n",
       "    }\n",
       "\n",
       "    .dataframe thead th {\n",
       "        text-align: right;\n",
       "    }\n",
       "</style>\n",
       "<table border=\"1\" class=\"dataframe\">\n",
       "  <thead>\n",
       "    <tr style=\"text-align: right;\">\n",
       "      <th></th>\n",
       "      <th>AGE</th>\n",
       "      <th>SALARY</th>\n",
       "    </tr>\n",
       "  </thead>\n",
       "  <tbody>\n",
       "    <tr>\n",
       "      <th>0</th>\n",
       "      <td>51</td>\n",
       "      <td>4438</td>\n",
       "    </tr>\n",
       "    <tr>\n",
       "      <th>1</th>\n",
       "      <td>75</td>\n",
       "      <td>3200</td>\n",
       "    </tr>\n",
       "    <tr>\n",
       "      <th>2</th>\n",
       "      <td>74</td>\n",
       "      <td>7607</td>\n",
       "    </tr>\n",
       "    <tr>\n",
       "      <th>3</th>\n",
       "      <td>40</td>\n",
       "      <td>7680</td>\n",
       "    </tr>\n",
       "    <tr>\n",
       "      <th>4</th>\n",
       "      <td>30</td>\n",
       "      <td>3415</td>\n",
       "    </tr>\n",
       "    <tr>\n",
       "      <th>...</th>\n",
       "      <td>...</td>\n",
       "      <td>...</td>\n",
       "    </tr>\n",
       "    <tr>\n",
       "      <th>95</th>\n",
       "      <td>90</td>\n",
       "      <td>3728</td>\n",
       "    </tr>\n",
       "    <tr>\n",
       "      <th>96</th>\n",
       "      <td>36</td>\n",
       "      <td>6282</td>\n",
       "    </tr>\n",
       "    <tr>\n",
       "      <th>97</th>\n",
       "      <td>81</td>\n",
       "      <td>3323</td>\n",
       "    </tr>\n",
       "    <tr>\n",
       "      <th>98</th>\n",
       "      <td>85</td>\n",
       "      <td>5370</td>\n",
       "    </tr>\n",
       "    <tr>\n",
       "      <th>99</th>\n",
       "      <td>67</td>\n",
       "      <td>4215</td>\n",
       "    </tr>\n",
       "  </tbody>\n",
       "</table>\n",
       "<p>100 rows × 2 columns</p>\n",
       "</div>"
      ],
      "text/plain": [
       "    AGE  SALARY\n",
       "0    51    4438\n",
       "1    75    3200\n",
       "2    74    7607\n",
       "3    40    7680\n",
       "4    30    3415\n",
       "..  ...     ...\n",
       "95   90    3728\n",
       "96   36    6282\n",
       "97   81    3323\n",
       "98   85    5370\n",
       "99   67    4215\n",
       "\n",
       "[100 rows x 2 columns]"
      ]
     },
     "execution_count": 3,
     "metadata": {},
     "output_type": "execute_result"
    }
   ],
   "source": [
    "df = pd.DataFrame({\"AGE\" : age , \"SALARY\" : sal})\n",
    "df"
   ]
  },
  {
   "cell_type": "code",
   "execution_count": 4,
   "id": "ebb4a03a",
   "metadata": {},
   "outputs": [
    {
     "name": "stdout",
     "output_type": "stream",
     "text": [
      "    AGE  SALARY  PURCHASED\n",
      "0    51    4438          0\n",
      "1    75    3200          0\n",
      "2    74    7607          0\n",
      "3    40    7680          0\n",
      "4    30    3415          0\n",
      "..  ...     ...        ...\n",
      "95   90    3728          0\n",
      "96   36    6282          0\n",
      "97   81    3323          0\n",
      "98   85    5370          0\n",
      "99   67    4215          0\n",
      "\n",
      "[100 rows x 3 columns]\n"
     ]
    }
   ],
   "source": [
    "df['PURCHASED'] = 0\n",
    "print(df)"
   ]
  },
  {
   "cell_type": "code",
   "execution_count": 5,
   "id": "a4ee11b3",
   "metadata": {},
   "outputs": [
    {
     "name": "stdout",
     "output_type": "stream",
     "text": [
      "    AGE  SALARY  PURCHASED\n",
      "0    51    4438          0\n",
      "1    75    3200          0\n",
      "2    74    7607          1\n",
      "3    40    7680          1\n",
      "4    30    3415          0\n",
      "..  ...     ...        ...\n",
      "95   90    3728          0\n",
      "96   36    6282          1\n",
      "97   81    3323          0\n",
      "98   85    5370          0\n",
      "99   67    4215          0\n",
      "\n",
      "[100 rows x 3 columns]\n"
     ]
    }
   ],
   "source": [
    "df['PURCHASED'] = df.apply(lambda x: 1 if (6*x['AGE']+3*x[\"SALARY\"]>18000)  else 0, axis=1)\n",
    "print(df)"
   ]
  },
  {
   "cell_type": "markdown",
   "id": "16effb67",
   "metadata": {},
   "source": [
    "Introducing error"
   ]
  },
  {
   "cell_type": "code",
   "execution_count": 6,
   "id": "2c49b71b",
   "metadata": {},
   "outputs": [
    {
     "data": {
      "text/html": [
       "<div>\n",
       "<style scoped>\n",
       "    .dataframe tbody tr th:only-of-type {\n",
       "        vertical-align: middle;\n",
       "    }\n",
       "\n",
       "    .dataframe tbody tr th {\n",
       "        vertical-align: top;\n",
       "    }\n",
       "\n",
       "    .dataframe thead th {\n",
       "        text-align: right;\n",
       "    }\n",
       "</style>\n",
       "<table border=\"1\" class=\"dataframe\">\n",
       "  <thead>\n",
       "    <tr style=\"text-align: right;\">\n",
       "      <th></th>\n",
       "      <th>AGE</th>\n",
       "      <th>SALARY</th>\n",
       "      <th>PURCHASED</th>\n",
       "    </tr>\n",
       "  </thead>\n",
       "  <tbody>\n",
       "    <tr>\n",
       "      <th>0</th>\n",
       "      <td>71</td>\n",
       "      <td>5052</td>\n",
       "      <td>0</td>\n",
       "    </tr>\n",
       "    <tr>\n",
       "      <th>1</th>\n",
       "      <td>97</td>\n",
       "      <td>3895</td>\n",
       "      <td>0</td>\n",
       "    </tr>\n",
       "    <tr>\n",
       "      <th>2</th>\n",
       "      <td>77</td>\n",
       "      <td>8575</td>\n",
       "      <td>1</td>\n",
       "    </tr>\n",
       "    <tr>\n",
       "      <th>3</th>\n",
       "      <td>44</td>\n",
       "      <td>8374</td>\n",
       "      <td>1</td>\n",
       "    </tr>\n",
       "    <tr>\n",
       "      <th>4</th>\n",
       "      <td>41</td>\n",
       "      <td>4402</td>\n",
       "      <td>0</td>\n",
       "    </tr>\n",
       "    <tr>\n",
       "      <th>...</th>\n",
       "      <td>...</td>\n",
       "      <td>...</td>\n",
       "      <td>...</td>\n",
       "    </tr>\n",
       "    <tr>\n",
       "      <th>95</th>\n",
       "      <td>91</td>\n",
       "      <td>4461</td>\n",
       "      <td>0</td>\n",
       "    </tr>\n",
       "    <tr>\n",
       "      <th>96</th>\n",
       "      <td>61</td>\n",
       "      <td>7221</td>\n",
       "      <td>1</td>\n",
       "    </tr>\n",
       "    <tr>\n",
       "      <th>97</th>\n",
       "      <td>94</td>\n",
       "      <td>4310</td>\n",
       "      <td>0</td>\n",
       "    </tr>\n",
       "    <tr>\n",
       "      <th>98</th>\n",
       "      <td>116</td>\n",
       "      <td>5904</td>\n",
       "      <td>0</td>\n",
       "    </tr>\n",
       "    <tr>\n",
       "      <th>99</th>\n",
       "      <td>87</td>\n",
       "      <td>4815</td>\n",
       "      <td>0</td>\n",
       "    </tr>\n",
       "  </tbody>\n",
       "</table>\n",
       "<p>100 rows × 3 columns</p>\n",
       "</div>"
      ],
      "text/plain": [
       "    AGE  SALARY  PURCHASED\n",
       "0    71    5052          0\n",
       "1    97    3895          0\n",
       "2    77    8575          1\n",
       "3    44    8374          1\n",
       "4    41    4402          0\n",
       "..  ...     ...        ...\n",
       "95   91    4461          0\n",
       "96   61    7221          1\n",
       "97   94    4310          0\n",
       "98  116    5904          0\n",
       "99   87    4815          0\n",
       "\n",
       "[100 rows x 3 columns]"
      ]
     },
     "execution_count": 6,
     "metadata": {},
     "output_type": "execute_result"
    }
   ],
   "source": [
    "df['AGE'] = df['AGE'] + np.random.randint(0 , 33, 100)\n",
    "df['SALARY'] = df['SALARY'] + np.random.randint(500, 1000, 100)\n",
    "df"
   ]
  },
  {
   "cell_type": "markdown",
   "id": "44a0760d",
   "metadata": {},
   "source": [
    "Saving and importing dataset"
   ]
  },
  {
   "cell_type": "code",
   "execution_count": 7,
   "id": "c911a3b5",
   "metadata": {},
   "outputs": [],
   "source": [
    "df.to_csv('Age_Salary.csv' , index = 0)"
   ]
  },
  {
   "cell_type": "code",
   "execution_count": 11,
   "id": "b937dbf8",
   "metadata": {},
   "outputs": [
    {
     "data": {
      "text/plain": [
       "array([[  71, 5052],\n",
       "       [  97, 3895],\n",
       "       [  77, 8575],\n",
       "       [  44, 8374],\n",
       "       [  41, 4402],\n",
       "       [  43, 7572],\n",
       "       [  76, 3988],\n",
       "       [  26, 6215],\n",
       "       [  98, 6601],\n",
       "       [  79, 1976],\n",
       "       [  81, 6725],\n",
       "       [ 105, 2266],\n",
       "       [  54, 3242],\n",
       "       [  30, 5258],\n",
       "       [  19, 1598],\n",
       "       [  86, 7966],\n",
       "       [  52, 4635],\n",
       "       [  37, 5248],\n",
       "       [  14, 5063],\n",
       "       [  73, 5502],\n",
       "       [  17, 5188],\n",
       "       [ 118, 6509],\n",
       "       [  91, 1584],\n",
       "       [  69, 4603],\n",
       "       [  60, 1458],\n",
       "       [  95, 5710],\n",
       "       [  94, 8279],\n",
       "       [  77, 5499],\n",
       "       [  70, 3278],\n",
       "       [  98, 2128],\n",
       "       [  30, 6091],\n",
       "       [  65, 4282],\n",
       "       [  54, 6282],\n",
       "       [  32, 6524],\n",
       "       [  92, 2703],\n",
       "       [  78, 5357],\n",
       "       [  20, 4848],\n",
       "       [  88, 3345],\n",
       "       [  72, 2300],\n",
       "       [ 102, 2987],\n",
       "       [  90, 7237],\n",
       "       [  89, 4551],\n",
       "       [  45, 7722],\n",
       "       [  71, 7732],\n",
       "       [  97, 2176],\n",
       "       [  46, 8205],\n",
       "       [  60, 8606],\n",
       "       [ 112, 4754],\n",
       "       [  65, 7551],\n",
       "       [  77, 6274],\n",
       "       [ 114, 2169],\n",
       "       [  47, 8267],\n",
       "       [  62, 8229],\n",
       "       [ 114, 3265],\n",
       "       [  40, 3599],\n",
       "       [  32, 7758],\n",
       "       [  59, 2040],\n",
       "       [ 117, 8583],\n",
       "       [  88, 8246],\n",
       "       [  68, 4929],\n",
       "       [  86, 5113],\n",
       "       [  20, 5397],\n",
       "       [  74, 1871],\n",
       "       [  29, 3822],\n",
       "       [  58, 3569],\n",
       "       [ 102, 4163],\n",
       "       [  25, 5936],\n",
       "       [  59, 3701],\n",
       "       [  10, 5775],\n",
       "       [  38, 7451],\n",
       "       [  42, 3335],\n",
       "       [  53, 3585],\n",
       "       [  65, 3258],\n",
       "       [  79, 4387],\n",
       "       [  62, 5060],\n",
       "       [  44, 1502],\n",
       "       [  98, 6720],\n",
       "       [  46, 6239],\n",
       "       [  27, 7051],\n",
       "       [ 123, 3583],\n",
       "       [  27, 2989],\n",
       "       [  62, 4259],\n",
       "       [  87, 3637],\n",
       "       [  82, 2649],\n",
       "       [  94, 7265],\n",
       "       [  46, 6593],\n",
       "       [  43, 1453],\n",
       "       [ 121, 8467],\n",
       "       [  28, 2049],\n",
       "       [  27, 1240],\n",
       "       [  78, 2376],\n",
       "       [ 120, 8399],\n",
       "       [  57, 7929],\n",
       "       [  66, 8083],\n",
       "       [  74, 8037],\n",
       "       [  91, 4461],\n",
       "       [  61, 7221],\n",
       "       [  94, 4310],\n",
       "       [ 116, 5904],\n",
       "       [  87, 4815]], dtype=int64)"
      ]
     },
     "execution_count": 11,
     "metadata": {},
     "output_type": "execute_result"
    }
   ],
   "source": [
    "dataset = pd.read_csv('Age_Salary.csv')\n",
    "X = dataset.iloc[:,:-1].values\n",
    "y = dataset.iloc[:,-1].values\n",
    "X\n"
   ]
  },
  {
   "cell_type": "markdown",
   "id": "6dc29643",
   "metadata": {},
   "source": [
    "Splitting the dataset into the Training set and Test set"
   ]
  },
  {
   "cell_type": "code",
   "execution_count": 12,
   "id": "8333a63c",
   "metadata": {},
   "outputs": [],
   "source": [
    "from sklearn.model_selection import train_test_split\n",
    "X_train, X_test, y_train, y_test = train_test_split(X, y, test_size = 0.25, random_state = 0)"
   ]
  },
  {
   "cell_type": "code",
   "execution_count": 13,
   "id": "48709515",
   "metadata": {},
   "outputs": [
    {
     "name": "stdout",
     "output_type": "stream",
     "text": [
      "[[  65 7551]\n",
      " [  76 3988]\n",
      " [  87 4815]\n",
      " [  87 3637]\n",
      " [  98 6720]\n",
      " [  86 5113]\n",
      " [  27 2989]\n",
      " [  78 2376]\n",
      " [  10 5775]\n",
      " [  47 8267]\n",
      " [  77 5499]\n",
      " [  14 5063]\n",
      " [  59 2040]\n",
      " [  29 3822]\n",
      " [  62 5060]\n",
      " [  97 3895]\n",
      " [  20 5397]\n",
      " [  45 7722]\n",
      " [  89 4551]\n",
      " [  41 4402]\n",
      " [  86 7966]\n",
      " [  37 5248]\n",
      " [  90 7237]\n",
      " [  72 2300]\n",
      " [  43 7572]\n",
      " [ 120 8399]\n",
      " [  68 4929]\n",
      " [  71 5052]\n",
      " [  92 2703]\n",
      " [  70 3278]\n",
      " [ 114 2169]\n",
      " [ 105 2266]\n",
      " [  78 5357]\n",
      " [  69 4603]\n",
      " [  62 8229]\n",
      " [  81 6725]\n",
      " [  65 4282]\n",
      " [  25 5936]\n",
      " [ 117 8583]\n",
      " [ 123 3583]\n",
      " [  46 6593]\n",
      " [  54 6282]\n",
      " [  94 7265]\n",
      " [  19 1598]\n",
      " [  27 1240]\n",
      " [  73 5502]\n",
      " [  98 2128]\n",
      " [  77 6274]\n",
      " [  94 4310]\n",
      " [ 116 5904]\n",
      " [  38 7451]\n",
      " [  17 5188]\n",
      " [  74 8037]\n",
      " [  65 3258]\n",
      " [  46 6239]\n",
      " [  95 5710]\n",
      " [  88 3345]\n",
      " [  62 4259]\n",
      " [  60 8606]\n",
      " [ 102 2987]\n",
      " [ 102 4163]\n",
      " [  88 8246]\n",
      " [  54 3242]\n",
      " [  28 2049]\n",
      " [  42 3335]\n",
      " [ 121 8467]\n",
      " [  20 4848]\n",
      " [ 118 6509]\n",
      " [  82 2649]\n",
      " [  79 1976]\n",
      " [  61 7221]\n",
      " [  59 3701]\n",
      " [  58 3569]\n",
      " [ 112 4754]\n",
      " [  97 2176]]\n",
      "[1 0 0 0 1 0 0 0 0 1 0 0 0 0 0 0 0 1 0 0 1 0 1 0 1 1 0 0 0 0 0 0 0 0 1 1 0\n",
      " 0 1 0 0 0 1 0 0 0 0 0 0 0 1 0 1 0 0 0 0 0 1 0 0 1 0 0 0 1 0 0 0 0 1 0 0 0\n",
      " 0]\n",
      "[[  94 8279]\n",
      " [  43 1453]\n",
      " [  77 8575]\n",
      " [  32 7758]\n",
      " [  44 1502]\n",
      " [  66 8083]\n",
      " [  52 4635]\n",
      " [  79 4387]\n",
      " [  40 3599]\n",
      " [  91 4461]\n",
      " [ 114 3265]\n",
      " [  57 7929]\n",
      " [  27 7051]\n",
      " [  30 5258]\n",
      " [  26 6215]\n",
      " [  30 6091]\n",
      " [  91 1584]\n",
      " [  60 1458]\n",
      " [  32 6524]\n",
      " [  98 6601]\n",
      " [  71 7732]\n",
      " [  74 1871]\n",
      " [  44 8374]\n",
      " [  53 3585]\n",
      " [  46 8205]]\n",
      "[1 0 1 1 0 1 0 0 0 0 0 1 1 0 0 0 0 0 0 0 1 0 1 0 1]\n"
     ]
    }
   ],
   "source": [
    "print(X_train)\n",
    "print(y_train)\n",
    "print(X_test)\n",
    "print(y_test)"
   ]
  },
  {
   "cell_type": "markdown",
   "id": "8674ad81",
   "metadata": {},
   "source": [
    "Feature Scaling"
   ]
  },
  {
   "cell_type": "code",
   "execution_count": 14,
   "id": "4657f04f",
   "metadata": {},
   "outputs": [
    {
     "name": "stdout",
     "output_type": "stream",
     "text": [
      "[[-1.69755218e-01  1.26844293e+00]\n",
      " [ 2.05708736e-01 -4.95639725e-01]\n",
      " [ 5.81172689e-01 -8.61824269e-02]\n",
      " [ 5.81172689e-01 -6.69423899e-01]\n",
      " [ 9.56636643e-01  8.57005183e-01]\n",
      " [ 5.47039603e-01  6.13608317e-02]\n",
      " [-1.46681251e+00 -9.90256220e-01]\n",
      " [ 2.73974909e-01 -1.29375963e+00]\n",
      " [-2.04707499e+00  3.89124715e-01]\n",
      " [-7.84150778e-01  1.62294284e+00]\n",
      " [ 2.39841822e-01  2.52473912e-01]\n",
      " [-1.91054264e+00  3.66052514e-02]\n",
      " [-3.74553738e-01 -1.46011713e+00]\n",
      " [-1.39854634e+00 -5.77828252e-01]\n",
      " [-2.72154478e-01  3.51199166e-02]\n",
      " [ 9.22503556e-01 -5.41685105e-01]\n",
      " [-1.70574412e+00  2.01972528e-01]\n",
      " [-8.52416952e-01  1.35310701e+00]\n",
      " [ 6.49438863e-01 -2.16891891e-01]\n",
      " [-9.88949298e-01 -2.90663520e-01]\n",
      " [ 5.47039603e-01  1.47391424e+00]\n",
      " [-1.12548165e+00  1.28200899e-01]\n",
      " [ 6.83571949e-01  1.11297788e+00]\n",
      " [ 6.91763890e-02 -1.33138812e+00]\n",
      " [-9.20683125e-01  1.27884027e+00]\n",
      " [ 1.70756455e+00  1.68829757e+00]\n",
      " [-6.73559577e-02 -2.97397038e-02]\n",
      " [ 3.50433023e-02  3.11590238e-02]\n",
      " [ 7.51838123e-01 -1.13185814e+00]\n",
      " [ 9.10215645e-04 -8.47168966e-01]\n",
      " [ 1.50276603e+00 -1.39624774e+00]\n",
      " [ 1.19556825e+00 -1.34822191e+00]\n",
      " [ 2.73974909e-01  1.82168064e-01]\n",
      " [-3.32228710e-02 -1.91146087e-01]\n",
      " [-2.72154478e-01  1.60412860e+00]\n",
      " [ 3.76374169e-01  8.59480741e-01]\n",
      " [-1.69755218e-01 -3.50076913e-01]\n",
      " [-1.53507869e+00  4.68837684e-01]\n",
      " [ 1.60516529e+00  1.77939811e+00]\n",
      " [ 1.80996381e+00 -6.96159926e-01]\n",
      " [-8.18283865e-01  7.94126009e-01]\n",
      " [-5.45219171e-01  6.40146300e-01]\n",
      " [ 8.20104296e-01  1.12684101e+00]\n",
      " [-1.73987721e+00 -1.67895646e+00]\n",
      " [-1.46681251e+00 -1.85620642e+00]\n",
      " [ 1.03309476e-01  2.53959247e-01]\n",
      " [ 9.56636643e-01 -1.41654731e+00]\n",
      " [ 2.39841822e-01  6.36185407e-01]\n",
      " [ 8.20104296e-01 -3.36213788e-01]\n",
      " [ 1.57103220e+00  4.52994112e-01]\n",
      " [-1.09134856e+00  1.21893177e+00]\n",
      " [-1.80814338e+00  9.84942022e-02]\n",
      " [ 1.37442562e-01  1.50906717e+00]\n",
      " [-1.69755218e-01 -8.57071198e-01]\n",
      " [-8.18283865e-01  6.18856501e-01]\n",
      " [ 8.54237383e-01  3.56942461e-01]\n",
      " [ 6.15305776e-01 -8.13996488e-01]\n",
      " [-2.72154478e-01 -3.61464480e-01]\n",
      " [-3.40420651e-01  1.79078567e+00]\n",
      " [ 1.09316899e+00 -9.91246443e-01]\n",
      " [ 1.09316899e+00 -4.08995194e-01]\n",
      " [ 6.15305776e-01  1.61254549e+00]\n",
      " [-5.45219171e-01 -8.64992984e-01]\n",
      " [-1.43267943e+00 -1.45566113e+00]\n",
      " [-9.54816212e-01 -8.18947604e-01]\n",
      " [ 1.74169764e+00  1.72196516e+00]\n",
      " [-1.70574412e+00 -6.98437439e-02]\n",
      " [ 1.63929838e+00  7.52536634e-01]\n",
      " [ 4.10507256e-01 -1.15859417e+00]\n",
      " [ 3.08107996e-01 -1.49180428e+00]\n",
      " [-3.06287565e-01  1.10505610e+00]\n",
      " [-3.74553738e-01 -6.37736756e-01]\n",
      " [-4.08686825e-01 -7.03091488e-01]\n",
      " [ 1.43449986e+00 -1.16384235e-01]\n",
      " [ 9.22503556e-01 -1.39278196e+00]]\n"
     ]
    }
   ],
   "source": [
    "from sklearn.preprocessing import StandardScaler\n",
    "sc = StandardScaler()\n",
    "X_train = sc.fit_transform(X_train)\n",
    "X_test = sc.transform(X_test)\n",
    "print(X_train)"
   ]
  },
  {
   "cell_type": "markdown",
   "id": "51e15234",
   "metadata": {},
   "source": [
    "Training the Logistic Regression model on the Training set"
   ]
  },
  {
   "cell_type": "code",
   "execution_count": null,
   "id": "c13f9966",
   "metadata": {},
   "outputs": [],
   "source": [
    "from sklearn.linear_model import LogisticRegression\n",
    "classifier = LogisticRegression(random_state = 0)\n",
    "classifier.fit(X_train, y_train)"
   ]
  },
  {
   "cell_type": "markdown",
   "id": "2d0945bc",
   "metadata": {},
   "source": [
    "Predicting a new result"
   ]
  },
  {
   "cell_type": "code",
   "execution_count": 17,
   "id": "4ea978d4",
   "metadata": {},
   "outputs": [
    {
     "name": "stdout",
     "output_type": "stream",
     "text": [
      "[0]\n"
     ]
    }
   ],
   "source": [
    "print(classifier.predict(sc.transform([[45,6000]])))"
   ]
  },
  {
   "cell_type": "markdown",
   "id": "1ff6e283",
   "metadata": {},
   "source": [
    "Predicting the Test set results"
   ]
  },
  {
   "cell_type": "code",
   "execution_count": 20,
   "id": "a100beee",
   "metadata": {},
   "outputs": [
    {
     "data": {
      "text/plain": [
       "array([1, 0, 1, 1, 0, 1, 0, 0, 0, 0, 0, 1, 1, 0, 0, 0, 0, 0, 0, 0, 1, 0,\n",
       "       1, 0, 1], dtype=int64)"
      ]
     },
     "execution_count": 20,
     "metadata": {},
     "output_type": "execute_result"
    }
   ],
   "source": [
    "y_pred = classifier.predict(X_test)\n",
    "y_pred"
   ]
  },
  {
   "cell_type": "code",
   "execution_count": 21,
   "id": "fc2669c5",
   "metadata": {},
   "outputs": [
    {
     "name": "stdout",
     "output_type": "stream",
     "text": [
      "Predict Actual\n",
      "[[1 1]\n",
      " [0 0]\n",
      " [1 1]\n",
      " [1 1]\n",
      " [0 0]\n",
      " [1 1]\n",
      " [0 0]\n",
      " [0 0]\n",
      " [0 0]\n",
      " [0 0]\n",
      " [0 0]\n",
      " [1 1]\n",
      " [1 1]\n",
      " [0 0]\n",
      " [0 0]\n",
      " [0 0]\n",
      " [0 0]\n",
      " [0 0]\n",
      " [0 0]\n",
      " [0 0]\n",
      " [1 1]\n",
      " [0 0]\n",
      " [1 1]\n",
      " [0 0]\n",
      " [1 1]]\n"
     ]
    }
   ],
   "source": [
    "print(\"Predict Actual\")\n",
    "print(np.concatenate((y_pred.reshape(len(y_pred),1), y_test.reshape(len(y_test),1)),1))"
   ]
  },
  {
   "cell_type": "code",
   "execution_count": 22,
   "id": "ee9c8722",
   "metadata": {},
   "outputs": [
    {
     "name": "stdout",
     "output_type": "stream",
     "text": [
      "Pred Actual\n",
      "[[1 1]\n",
      " [0 0]\n",
      " [1 1]\n",
      " [1 1]\n",
      " [0 0]\n",
      " [1 1]\n",
      " [0 0]\n",
      " [0 0]\n",
      " [0 0]\n",
      " [0 0]\n",
      " [0 0]\n",
      " [1 1]\n",
      " [1 1]\n",
      " [0 0]\n",
      " [0 0]\n",
      " [0 0]\n",
      " [0 0]\n",
      " [0 0]\n",
      " [0 0]\n",
      " [0 0]\n",
      " [1 1]\n",
      " [0 0]\n",
      " [1 1]\n",
      " [0 0]\n",
      " [1 1]]\n"
     ]
    }
   ],
   "source": [
    "print(\"Pred Actual\")\n",
    "print(np.concatenate((y_pred.reshape(len(y_pred),1), y_test.reshape(len(y_test),1)),1))"
   ]
  },
  {
   "cell_type": "markdown",
   "id": "7d8f25c6",
   "metadata": {},
   "source": [
    "Making the Confusion Matrix"
   ]
  },
  {
   "cell_type": "code",
   "execution_count": 23,
   "id": "d035d564",
   "metadata": {},
   "outputs": [
    {
     "name": "stdout",
     "output_type": "stream",
     "text": [
      "[[16  0]\n",
      " [ 0  9]]\n"
     ]
    },
    {
     "data": {
      "text/plain": [
       "1.0"
      ]
     },
     "execution_count": 23,
     "metadata": {},
     "output_type": "execute_result"
    }
   ],
   "source": [
    "from sklearn.metrics import confusion_matrix, accuracy_score\n",
    "cm = confusion_matrix(y_test, y_pred)\n",
    "\n",
    "print(cm)\n",
    "accuracy_score(y_test, y_pred)"
   ]
  },
  {
   "cell_type": "code",
   "execution_count": 24,
   "id": "6cdd90cd",
   "metadata": {},
   "outputs": [
    {
     "name": "stdout",
     "output_type": "stream",
     "text": [
      "[[1 1]\n",
      " [0 0]\n",
      " [1 1]\n",
      " [1 1]\n",
      " [0 0]\n",
      " [1 1]\n",
      " [0 0]\n",
      " [0 0]\n",
      " [0 0]\n",
      " [0 0]\n",
      " [0 0]\n",
      " [1 1]\n",
      " [1 1]\n",
      " [0 0]\n",
      " [0 0]\n",
      " [0 0]\n",
      " [0 0]\n",
      " [0 0]\n",
      " [0 0]\n",
      " [0 0]\n",
      " [1 1]\n",
      " [0 0]\n",
      " [1 1]\n",
      " [0 0]\n",
      " [1 1]]\n"
     ]
    },
    {
     "data": {
      "text/plain": [
       "(25,)"
      ]
     },
     "execution_count": 24,
     "metadata": {},
     "output_type": "execute_result"
    }
   ],
   "source": [
    "print(np.concatenate((y_pred.reshape(len(y_pred),1), y_test.reshape(len(y_test),1)),1))\n",
    "len(y_pred)\n",
    "y_pred.shape"
   ]
  },
  {
   "cell_type": "code",
   "execution_count": 25,
   "id": "74ce5bdd",
   "metadata": {},
   "outputs": [
    {
     "name": "stdout",
     "output_type": "stream",
     "text": [
      "Accuracy is:  100.0 %\n"
     ]
    }
   ],
   "source": [
    "from sklearn.metrics import accuracy_score\n",
    "print(\"Accuracy is: \" ,round(accuracy_score(y_test, y_pred),2)*100, \"%\")"
   ]
  },
  {
   "cell_type": "code",
   "execution_count": null,
   "id": "72bc3a2a",
   "metadata": {},
   "outputs": [],
   "source": []
  }
 ],
 "metadata": {
  "kernelspec": {
   "display_name": "Python 3 (ipykernel)",
   "language": "python",
   "name": "python3"
  },
  "language_info": {
   "codemirror_mode": {
    "name": "ipython",
    "version": 3
   },
   "file_extension": ".py",
   "mimetype": "text/x-python",
   "name": "python",
   "nbconvert_exporter": "python",
   "pygments_lexer": "ipython3",
   "version": "3.9.7"
  }
 },
 "nbformat": 4,
 "nbformat_minor": 5
}
